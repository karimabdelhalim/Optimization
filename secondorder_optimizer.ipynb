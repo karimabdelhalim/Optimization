{
 "cells": [
  {
   "cell_type": "code",
   "execution_count": 28,
   "id": "73aa8698",
   "metadata": {},
   "outputs": [],
   "source": [
    "import numpy as np\n",
    "import matplotlib.pyplot as plt \n",
    "from sklearn.metrics import r2_score\n",
    "\n",
    "%matplotlib inline\n",
    "df=pd.read_csv('Dummy Data HSS.csv')"
   ]
  },
  {
   "cell_type": "code",
   "execution_count": 14,
   "id": "b25f311f",
   "metadata": {},
   "outputs": [
    {
     "data": {
      "text/html": [
       "<div>\n",
       "<style scoped>\n",
       "    .dataframe tbody tr th:only-of-type {\n",
       "        vertical-align: middle;\n",
       "    }\n",
       "\n",
       "    .dataframe tbody tr th {\n",
       "        vertical-align: top;\n",
       "    }\n",
       "\n",
       "    .dataframe thead th {\n",
       "        text-align: right;\n",
       "    }\n",
       "</style>\n",
       "<table border=\"1\" class=\"dataframe\">\n",
       "  <thead>\n",
       "    <tr style=\"text-align: right;\">\n",
       "      <th></th>\n",
       "      <th>TV</th>\n",
       "      <th>Radio</th>\n",
       "      <th>Social Media</th>\n",
       "      <th>Sales</th>\n",
       "    </tr>\n",
       "  </thead>\n",
       "  <tbody>\n",
       "    <tr>\n",
       "      <th>0</th>\n",
       "      <td>16.0</td>\n",
       "      <td>6.566231</td>\n",
       "      <td>2.907983</td>\n",
       "      <td>54.732757</td>\n",
       "    </tr>\n",
       "    <tr>\n",
       "      <th>1</th>\n",
       "      <td>13.0</td>\n",
       "      <td>9.237765</td>\n",
       "      <td>2.409567</td>\n",
       "      <td>46.677897</td>\n",
       "    </tr>\n",
       "    <tr>\n",
       "      <th>2</th>\n",
       "      <td>41.0</td>\n",
       "      <td>15.886446</td>\n",
       "      <td>2.913410</td>\n",
       "      <td>150.177829</td>\n",
       "    </tr>\n",
       "    <tr>\n",
       "      <th>3</th>\n",
       "      <td>83.0</td>\n",
       "      <td>30.020028</td>\n",
       "      <td>6.922304</td>\n",
       "      <td>298.246340</td>\n",
       "    </tr>\n",
       "    <tr>\n",
       "      <th>4</th>\n",
       "      <td>15.0</td>\n",
       "      <td>8.437408</td>\n",
       "      <td>1.405998</td>\n",
       "      <td>56.594181</td>\n",
       "    </tr>\n",
       "  </tbody>\n",
       "</table>\n",
       "</div>"
      ],
      "text/plain": [
       "     TV      Radio  Social Media       Sales\n",
       "0  16.0   6.566231      2.907983   54.732757\n",
       "1  13.0   9.237765      2.409567   46.677897\n",
       "2  41.0  15.886446      2.913410  150.177829\n",
       "3  83.0  30.020028      6.922304  298.246340\n",
       "4  15.0   8.437408      1.405998   56.594181"
      ]
     },
     "execution_count": 14,
     "metadata": {},
     "output_type": "execute_result"
    }
   ],
   "source": [
    "df = df.drop('Influencer', axis=1)\n",
    "df = df.dropna()\n",
    "test_df = df.sample(n=100)\n",
    "df = df.iloc[:150]\n",
    "df.head()"
   ]
  },
  {
   "cell_type": "code",
   "execution_count": 15,
   "id": "2b53bd7a",
   "metadata": {},
   "outputs": [
    {
     "name": "stdout",
     "output_type": "stream",
     "text": [
      "<class 'pandas.core.frame.DataFrame'>\n",
      "Int64Index: 150 entries, 0 to 156\n",
      "Data columns (total 3 columns):\n",
      " #   Column        Non-Null Count  Dtype  \n",
      "---  ------        --------------  -----  \n",
      " 0   TV            150 non-null    float64\n",
      " 1   Radio         150 non-null    float64\n",
      " 2   Social Media  150 non-null    float64\n",
      "dtypes: float64(3)\n",
      "memory usage: 4.7 KB\n"
     ]
    }
   ],
   "source": [
    "columns_to_normalize = df[['TV','Radio','Social Media']]\n",
    "columns_to_normalize.info()"
   ]
  },
  {
   "cell_type": "code",
   "execution_count": 16,
   "id": "783f365e",
   "metadata": {},
   "outputs": [
    {
     "name": "stdout",
     "output_type": "stream",
     "text": [
      "<class 'pandas.core.frame.DataFrame'>\n",
      "Int64Index: 100 entries, 3057 to 3836\n",
      "Data columns (total 3 columns):\n",
      " #   Column        Non-Null Count  Dtype  \n",
      "---  ------        --------------  -----  \n",
      " 0   TV            100 non-null    float64\n",
      " 1   Radio         100 non-null    float64\n",
      " 2   Social Media  100 non-null    float64\n",
      "dtypes: float64(3)\n",
      "memory usage: 3.1 KB\n"
     ]
    }
   ],
   "source": [
    "columns_to_normalize_test = test_df[['TV','Radio','Social Media']]\n",
    "columns_to_normalize_test.info()"
   ]
  },
  {
   "cell_type": "code",
   "execution_count": 17,
   "id": "451571c1",
   "metadata": {},
   "outputs": [],
   "source": [
    "from sklearn.preprocessing import MinMaxScaler\n",
    "scaler = MinMaxScaler()\n",
    "df[columns_to_normalize.columns] = scaler.fit_transform(df[columns_to_normalize.columns])\n"
   ]
  },
  {
   "cell_type": "code",
   "execution_count": 18,
   "id": "2926e057",
   "metadata": {},
   "outputs": [
    {
     "data": {
      "text/html": [
       "<div>\n",
       "<style scoped>\n",
       "    .dataframe tbody tr th:only-of-type {\n",
       "        vertical-align: middle;\n",
       "    }\n",
       "\n",
       "    .dataframe tbody tr th {\n",
       "        vertical-align: top;\n",
       "    }\n",
       "\n",
       "    .dataframe thead th {\n",
       "        text-align: right;\n",
       "    }\n",
       "</style>\n",
       "<table border=\"1\" class=\"dataframe\">\n",
       "  <thead>\n",
       "    <tr style=\"text-align: right;\">\n",
       "      <th></th>\n",
       "      <th>TV</th>\n",
       "      <th>Radio</th>\n",
       "      <th>Social Media</th>\n",
       "      <th>Sales</th>\n",
       "    </tr>\n",
       "  </thead>\n",
       "  <tbody>\n",
       "    <tr>\n",
       "      <th>3057</th>\n",
       "      <td>0.844444</td>\n",
       "      <td>0.872310</td>\n",
       "      <td>0.570764</td>\n",
       "      <td>305.798332</td>\n",
       "    </tr>\n",
       "    <tr>\n",
       "      <th>3252</th>\n",
       "      <td>0.477778</td>\n",
       "      <td>0.443853</td>\n",
       "      <td>0.477757</td>\n",
       "      <td>188.212386</td>\n",
       "    </tr>\n",
       "    <tr>\n",
       "      <th>4334</th>\n",
       "      <td>0.533333</td>\n",
       "      <td>0.373270</td>\n",
       "      <td>0.157098</td>\n",
       "      <td>202.886881</td>\n",
       "    </tr>\n",
       "    <tr>\n",
       "      <th>3870</th>\n",
       "      <td>0.600000</td>\n",
       "      <td>0.588918</td>\n",
       "      <td>0.825545</td>\n",
       "      <td>226.727492</td>\n",
       "    </tr>\n",
       "    <tr>\n",
       "      <th>4316</th>\n",
       "      <td>0.533333</td>\n",
       "      <td>0.483308</td>\n",
       "      <td>0.841825</td>\n",
       "      <td>207.635847</td>\n",
       "    </tr>\n",
       "    <tr>\n",
       "      <th>...</th>\n",
       "      <td>...</td>\n",
       "      <td>...</td>\n",
       "      <td>...</td>\n",
       "      <td>...</td>\n",
       "    </tr>\n",
       "    <tr>\n",
       "      <th>1719</th>\n",
       "      <td>0.800000</td>\n",
       "      <td>0.723391</td>\n",
       "      <td>0.258134</td>\n",
       "      <td>293.580972</td>\n",
       "    </tr>\n",
       "    <tr>\n",
       "      <th>3762</th>\n",
       "      <td>0.522222</td>\n",
       "      <td>0.599789</td>\n",
       "      <td>0.623450</td>\n",
       "      <td>204.236881</td>\n",
       "    </tr>\n",
       "    <tr>\n",
       "      <th>2489</th>\n",
       "      <td>0.622222</td>\n",
       "      <td>0.723821</td>\n",
       "      <td>0.548686</td>\n",
       "      <td>232.265298</td>\n",
       "    </tr>\n",
       "    <tr>\n",
       "      <th>2402</th>\n",
       "      <td>0.411111</td>\n",
       "      <td>0.471325</td>\n",
       "      <td>1.000000</td>\n",
       "      <td>167.739801</td>\n",
       "    </tr>\n",
       "    <tr>\n",
       "      <th>3836</th>\n",
       "      <td>0.722222</td>\n",
       "      <td>0.500806</td>\n",
       "      <td>0.216839</td>\n",
       "      <td>272.412773</td>\n",
       "    </tr>\n",
       "  </tbody>\n",
       "</table>\n",
       "<p>100 rows × 4 columns</p>\n",
       "</div>"
      ],
      "text/plain": [
       "            TV     Radio  Social Media       Sales\n",
       "3057  0.844444  0.872310      0.570764  305.798332\n",
       "3252  0.477778  0.443853      0.477757  188.212386\n",
       "4334  0.533333  0.373270      0.157098  202.886881\n",
       "3870  0.600000  0.588918      0.825545  226.727492\n",
       "4316  0.533333  0.483308      0.841825  207.635847\n",
       "...        ...       ...           ...         ...\n",
       "1719  0.800000  0.723391      0.258134  293.580972\n",
       "3762  0.522222  0.599789      0.623450  204.236881\n",
       "2489  0.622222  0.723821      0.548686  232.265298\n",
       "2402  0.411111  0.471325      1.000000  167.739801\n",
       "3836  0.722222  0.500806      0.216839  272.412773\n",
       "\n",
       "[100 rows x 4 columns]"
      ]
     },
     "execution_count": 18,
     "metadata": {},
     "output_type": "execute_result"
    }
   ],
   "source": [
    "test_df[columns_to_normalize_test.columns] = scaler.fit_transform(test_df[columns_to_normalize_test.columns])\n",
    "\n",
    "test_df"
   ]
  },
  {
   "cell_type": "code",
   "execution_count": 19,
   "id": "1c92a09c",
   "metadata": {},
   "outputs": [],
   "source": [
    "np_data=df.values\n",
    "np_test= test_df.values\n"
   ]
  },
  {
   "cell_type": "code",
   "execution_count": 20,
   "id": "766b01a5",
   "metadata": {},
   "outputs": [],
   "source": [
    "X = np_data[:, :3]\n",
    "X_test = np_test[:, :3]"
   ]
  },
  {
   "cell_type": "code",
   "execution_count": 21,
   "id": "d39533e8",
   "metadata": {},
   "outputs": [],
   "source": [
    "y = np_data[:, 3]  \n",
    "y_test = np_test[:, 3]  \n",
    "#y"
   ]
  },
  {
   "cell_type": "code",
   "execution_count": 22,
   "id": "82efbb02",
   "metadata": {},
   "outputs": [
    {
     "data": {
      "text/plain": [
       "array([[0.84444444, 0.87230986, 0.57076425],\n",
       "       [0.47777778, 0.44385336, 0.47775707],\n",
       "       [0.53333333, 0.37326989, 0.15709771],\n",
       "       [0.6       , 0.58891845, 0.82554517],\n",
       "       [0.53333333, 0.48330839, 0.84182503],\n",
       "       [0.3       , 0.05960915, 0.49429886],\n",
       "       [0.81111111, 0.78424267, 0.60052455],\n",
       "       [0.62222222, 0.68630256, 0.42791807],\n",
       "       [0.16666667, 0.45539347, 0.29453981],\n",
       "       [0.85555556, 0.74960665, 0.49446785],\n",
       "       [0.22222222, 0.57855447, 0.50082089],\n",
       "       [0.65555556, 0.51097111, 0.02459583],\n",
       "       [0.55555556, 0.41026274, 0.31328176],\n",
       "       [0.9       , 0.61228728, 0.70713647],\n",
       "       [0.58888889, 0.59890639, 0.63159735],\n",
       "       [0.96666667, 0.84014822, 0.27549254],\n",
       "       [0.14444444, 0.26828105, 0.05903641],\n",
       "       [0.17777778, 0.10538945, 0.1928044 ],\n",
       "       [0.33333333, 0.27125894, 0.34776573],\n",
       "       [0.73333333, 0.50972414, 0.23721787],\n",
       "       [0.35555556, 0.32765457, 0.54046103],\n",
       "       [0.23333333, 0.27698684, 0.07817191],\n",
       "       [0.94444444, 1.        , 0.83409343],\n",
       "       [0.61111111, 0.61593662, 0.30630736],\n",
       "       [0.5       , 0.51456632, 0.33206286],\n",
       "       [0.65555556, 0.55380489, 0.08567894],\n",
       "       [0.4       , 0.19802227, 0.05294193],\n",
       "       [0.08888889, 0.1197292 , 0.26229156],\n",
       "       [0.63333333, 0.4102175 , 0.14864767],\n",
       "       [0.73333333, 0.64803   , 0.38879408],\n",
       "       [0.73333333, 0.73351806, 0.61937166],\n",
       "       [0.08888889, 0.01276019, 0.07917487],\n",
       "       [0.77777778, 0.76047508, 0.54931117],\n",
       "       [0.4       , 0.22323446, 0.21377343],\n",
       "       [0.18888889, 0.07335184, 0.08300081],\n",
       "       [0.51111111, 0.32781897, 0.1071848 ],\n",
       "       [0.45555556, 0.42281735, 0.09872792],\n",
       "       [1.        , 0.82357759, 0.70946535],\n",
       "       [0.06666667, 0.13721275, 0.17148442],\n",
       "       [0.52222222, 0.42880143, 0.31948175],\n",
       "       [0.03333333, 0.13426784, 0.39160799],\n",
       "       [0.85555556, 0.92681867, 0.59515388],\n",
       "       [0.62222222, 0.57851597, 0.02843959],\n",
       "       [0.28888889, 0.4976115 , 0.42818758],\n",
       "       [0.88888889, 0.77096389, 0.01847386],\n",
       "       [0.47777778, 0.35224289, 0.05250759],\n",
       "       [0.9       , 0.70786504, 0.71746156],\n",
       "       [0.27777778, 0.25790112, 0.24798196],\n",
       "       [0.33333333, 0.61220088, 0.28861348],\n",
       "       [0.17777778, 0.38663807, 0.39166547],\n",
       "       [0.65555556, 0.41137569, 0.40074641],\n",
       "       [0.04444444, 0.1455738 , 0.12339845],\n",
       "       [0.17777778, 0.30925594, 0.        ],\n",
       "       [0.14444444, 0.40728151, 0.729391  ],\n",
       "       [0.61111111, 0.29288223, 0.03662633],\n",
       "       [0.56666667, 0.57254143, 0.89090741],\n",
       "       [0.        , 0.        , 0.1144712 ],\n",
       "       [0.74444444, 0.49197586, 0.21190236],\n",
       "       [0.48888889, 0.71968669, 0.44023592],\n",
       "       [0.92222222, 0.76721978, 0.49182909],\n",
       "       [0.05555556, 0.14584549, 0.23851216],\n",
       "       [0.61111111, 0.60031387, 0.80315384],\n",
       "       [0.4       , 0.39634983, 0.34571623],\n",
       "       [0.31111111, 0.15274437, 0.30843236],\n",
       "       [0.96666667, 0.81983926, 0.66212464],\n",
       "       [0.31111111, 0.41002593, 0.27284959],\n",
       "       [0.46666667, 0.49753095, 0.62623151],\n",
       "       [0.08888889, 0.05380686, 0.00358954],\n",
       "       [0.74444444, 0.8494517 , 0.44105044],\n",
       "       [0.26666667, 0.52056575, 0.47076686],\n",
       "       [0.        , 0.00489735, 0.05509459],\n",
       "       [0.7       , 0.54750344, 0.44385736],\n",
       "       [0.16666667, 0.15105871, 0.18956718],\n",
       "       [0.72222222, 0.68714166, 0.66709928],\n",
       "       [0.71111111, 0.76607266, 0.22219793],\n",
       "       [0.34444444, 0.17314049, 0.12363567],\n",
       "       [0.86666667, 0.6932713 , 0.54477152],\n",
       "       [0.01111111, 0.08090715, 0.14888378],\n",
       "       [0.68888889, 0.98556557, 0.4051347 ],\n",
       "       [0.42222222, 0.15902891, 0.08081286],\n",
       "       [0.75555556, 0.64259424, 0.38249159],\n",
       "       [0.32222222, 0.29621331, 0.31987669],\n",
       "       [0.83333333, 0.638844  , 0.28181034],\n",
       "       [0.87777778, 0.72546089, 0.34121351],\n",
       "       [0.6       , 0.49250521, 0.33416736],\n",
       "       [0.4       , 0.41656288, 0.2818876 ],\n",
       "       [0.54444444, 0.39221458, 0.18368707],\n",
       "       [0.43333333, 0.48467531, 0.07901516],\n",
       "       [0.77777778, 0.68393413, 0.86488322],\n",
       "       [0.75555556, 0.97840652, 0.6276615 ],\n",
       "       [0.78888889, 0.62070828, 0.1654414 ],\n",
       "       [0.93333333, 0.80077495, 0.78260696],\n",
       "       [0.25555556, 0.28881384, 0.31490525],\n",
       "       [0.77777778, 0.61786903, 0.3467746 ],\n",
       "       [0.32222222, 0.24149236, 0.44293097],\n",
       "       [0.8       , 0.72339078, 0.25813429],\n",
       "       [0.52222222, 0.59978903, 0.62345037],\n",
       "       [0.62222222, 0.7238205 , 0.54868621],\n",
       "       [0.41111111, 0.47132473, 1.        ],\n",
       "       [0.72222222, 0.50080636, 0.21683937]])"
      ]
     },
     "execution_count": 22,
     "metadata": {},
     "output_type": "execute_result"
    }
   ],
   "source": [
    "X_test"
   ]
  },
  {
   "cell_type": "code",
   "execution_count": 23,
   "id": "f160d738",
   "metadata": {},
   "outputs": [],
   "source": [
    "def cost_vs_iteration(cost_list):\n",
    "    plt.plot(range(1, len(cost_list) + 1), cost_list, marker='o', linestyle='-')\n",
    "    plt.xlabel('Iterations')\n",
    "    plt.ylabel('Cost')\n",
    "    plt.title('Cost Function over Iterations')\n",
    "    plt.grid(True)\n",
    "    plt.show()\n",
    "        \n",
    "def cost_vs_parameter(theta_1,cost_list):\n",
    "    plt.figure(figsize=(8, 6))\n",
    "    plt.plot(theta_1, cost_list, marker='o', linestyle='-')\n",
    "    plt.title('Cost vs. Theta One')\n",
    "    plt.xlabel('Theta One')\n",
    "    plt.ylabel('Cost')\n",
    "    plt.grid(True)\n",
    "    plt.show()"
   ]
  },
  {
   "cell_type": "code",
   "execution_count": 24,
   "id": "ccf64f1f",
   "metadata": {},
   "outputs": [],
   "source": [
    "def get_theta(theta_all):\n",
    "    result_array = np.concatenate(theta_all, axis=1).T\n",
    "\n",
    "    #print(result_array)\n",
    "   # print(\"Shape:\", result_array.shape)\n",
    "    return result_array"
   ]
  },
  {
   "cell_type": "code",
   "execution_count": null,
   "id": "29126a31",
   "metadata": {},
   "outputs": [],
   "source": []
  },
  {
   "cell_type": "code",
   "execution_count": null,
   "id": "03bf37aa",
   "metadata": {},
   "outputs": [],
   "source": []
  },
  {
   "cell_type": "code",
   "execution_count": null,
   "id": "555bd9c3",
   "metadata": {},
   "outputs": [],
   "source": []
  },
  {
   "cell_type": "code",
   "execution_count": 25,
   "id": "8e17553f",
   "metadata": {},
   "outputs": [],
   "source": [
    "import numpy as np\n",
    "\n",
    "class Second_order_optimizer:\n",
    "    def __init__(self, alpha=0.01, iterations=100, cost_check=0.001, grad_check=0.001):\n",
    "        self.alpha = alpha\n",
    "        self.iterations = iterations\n",
    "        self.cost_check = cost_check\n",
    "        self.grad_check = grad_check\n",
    "        self.theta_2 = None\n",
    "        self.theta_1 = None\n",
    "        self.cost_list = []\n",
    "        self.theta_all = []\n",
    "\n",
    "    def fit(self, X, y_actual):\n",
    "        X = np.c_[np.ones((X.shape[0], 1)), X]\n",
    "        y_actual = y_actual.reshape(y_actual.shape[0], 1)\n",
    "        self.theta_2 = np.full((X.shape[1], 1), 0.1)\n",
    "        self.theta_1 = np.full((X.shape[1], 1), 0.2)\n",
    "        m = y_actual.shape[0]\n",
    "\n",
    "        j = np.identity(X.shape[1])\n",
    "        b_1 = np.identity(X.shape[1])\n",
    "        self.theta_all.insert(0,self.theta_1.copy())\n",
    "        for i in range(self.iterations):\n",
    "            h_x = np.dot(X, self.theta_1)\n",
    "            error = h_x - y_actual\n",
    "            cost = np.mean(error ** 2) / 2\n",
    "            self.cost_list.append(cost)\n",
    "\n",
    "            gradient1 = (1 / m) * X.T.dot(np.dot(X, self.theta_1) - y_actual)\n",
    "            gradient2 = (1 / m) * X.T.dot(np.dot(X, self.theta_2) - y_actual)\n",
    "            delta_X = self.theta_2 - self.theta_1\n",
    "            y = gradient2 - gradient1\n",
    "\n",
    "            first_brackets = j - np.divide(np.dot(delta_X, y.T), np.dot(y.T, delta_X))\n",
    "            first_Dot_B = np.dot(first_brackets, b_1)\n",
    "            second_brackets = j - np.divide(np.dot(y, delta_X.T), np.dot(y.T, delta_X))\n",
    "            third = np.divide(np.dot(delta_X, delta_X.T), np.dot(y.T, delta_X))\n",
    "            b_1 = np.dot(first_Dot_B, second_brackets) + third\n",
    "\n",
    "            if np.linalg.norm(gradient1) <= self.grad_check:\n",
    "                print('Reached small gradient')\n",
    "                break\n",
    "            if i != 0 and abs(self.cost_list[-1] - self.cost_list[-2]) < self.cost_check:\n",
    "                print('Reached small cost')\n",
    "                break\n",
    "\n",
    "            self.theta_2 = self.theta_1.copy()\n",
    "            self.theta_1 -= self.alpha * np.dot(b_1, gradient1)\n",
    "            self.theta_all.append(self.theta_1.copy())\n",
    "\n",
    "        return self.theta_1, i, self.cost_list, self.theta_all\n",
    "\n",
    "    def predict(self, X):\n",
    "        X = np.c_[np.ones((X.shape[0], 1)), X]\n",
    "        return np.dot(X, self.theta_1)\n",
    "\n",
    "\n"
   ]
  },
  {
   "cell_type": "code",
   "execution_count": 29,
   "id": "ed268e62",
   "metadata": {},
   "outputs": [
    {
     "name": "stdout",
     "output_type": "stream",
     "text": [
      "Reached small gradient\n"
     ]
    },
    {
     "data": {
      "text/plain": [
       "0.999228131628416"
      ]
     },
     "execution_count": 29,
     "metadata": {},
     "output_type": "execute_result"
    }
   ],
   "source": [
    "model = Second_order_optimizer(alpha=1, iterations=100, cost_check=0.001, grad_check=0.001)\n",
    "\n",
    "# Fit the model to the data\n",
    "theta, iterations, cost_list, theta_all = model.fit(X, y)\n",
    "\n",
    "# Make predictions\n",
    "predictions = model.predict(X)\n",
    "r2_score(y,predictions)"
   ]
  },
  {
   "cell_type": "code",
   "execution_count": null,
   "id": "9e07e6c5",
   "metadata": {},
   "outputs": [],
   "source": []
  },
  {
   "cell_type": "code",
   "execution_count": null,
   "id": "531fee52",
   "metadata": {},
   "outputs": [],
   "source": []
  },
  {
   "cell_type": "code",
   "execution_count": 30,
   "id": "5970b6cb",
   "metadata": {},
   "outputs": [
    {
     "data": {
      "text/plain": [
       "array([[ 2.00000000e-01,  2.00000000e-01,  2.00000000e-01,\n",
       "         2.00000000e-01],\n",
       "       [ 8.26861412e+01,  9.90589488e+01,  9.46770417e+01,\n",
       "         9.08144130e+01],\n",
       "       [ 7.62956882e+01,  1.07446507e+02,  9.88562514e+01,\n",
       "         9.13154026e+01],\n",
       "       [ 1.88680987e+01,  1.80212654e+02,  1.32206685e+02,\n",
       "         9.05380607e+01],\n",
       "       [ 1.84001009e+01,  1.83204053e+02,  1.31786720e+02,\n",
       "         8.75207192e+01],\n",
       "       [ 2.34001126e+01,  2.58396654e+02,  1.08030450e+02,\n",
       "        -8.99122469e+00],\n",
       "       [ 3.05311225e+01,  2.64435619e+02,  1.00445762e+02,\n",
       "        -2.43428372e+01],\n",
       "       [ 3.38023274e+01,  2.63842350e+02,  9.72246732e+01,\n",
       "        -2.65740295e+01],\n",
       "       [ 3.50069211e+01,  2.63836244e+02,  9.50738724e+01,\n",
       "        -2.65602139e+01],\n",
       "       [ 3.84499627e+01,  2.66258028e+02,  8.46388490e+01,\n",
       "        -2.50854728e+01],\n",
       "       [ 4.16424431e+01,  2.74036230e+02,  6.56543990e+01,\n",
       "        -2.09624545e+01],\n",
       "       [ 4.33468925e+01,  2.92560947e+02,  3.14106772e+01,\n",
       "        -1.16909499e+01],\n",
       "       [ 4.06357744e+01,  3.13315996e+02,  1.64784880e+00,\n",
       "        -1.74505241e+00],\n",
       "       [ 3.63715094e+01,  3.22572916e+02, -5.93686976e+00,\n",
       "         2.39722667e+00],\n",
       "       [ 3.47093146e+01,  3.22407007e+02, -2.56281958e+00,\n",
       "         2.15570719e+00],\n",
       "       [ 3.45390042e+01,  3.21729177e+02, -1.10868063e+00,\n",
       "         1.80595032e+00],\n",
       "       [ 3.45458001e+01,  3.21639661e+02, -9.71188374e-01,\n",
       "         1.76257694e+00]])"
      ]
     },
     "execution_count": 30,
     "metadata": {},
     "output_type": "execute_result"
    }
   ],
   "source": [
    "thetaa=get_theta(model.theta_all) \n",
    "thetaa"
   ]
  },
  {
   "cell_type": "code",
   "execution_count": 32,
   "id": "2b8fc9ba",
   "metadata": {},
   "outputs": [
    {
     "data": {
      "image/png": "[encoded data removed]",
      "text/plain": [
       "<Figure size 432x288 with 1 Axes>"
      ]
     },
     "metadata": {
      "needs_background": "light"
     },
     "output_type": "display_data"
    },
    {
     "data": {
      "image/png": "[encoded data removed]",
      "text/plain": [
       "<Figure size 576x432 with 1 Axes>"
      ]
     },
     "metadata": {
      "needs_background": "light"
     },
     "output_type": "display_data"
    },
    {
     "data": {
      "image/png": "[encoded data removed]",
      "text/plain": [
       "<Figure size 576x432 with 1 Axes>"
      ]
     },
     "metadata": {
      "needs_background": "light"
     },
     "output_type": "display_data"
    },
    {
     "data": {
      "image/png": "[encoded data removed]",
      "text/plain": [
       "<Figure size 576x432 with 1 Axes>"
      ]
     },
     "metadata": {
      "needs_background": "light"
     },
     "output_type": "display_data"
    },
    {
     "data": {
      "image/png": "[encoded data removed]",
      "text/plain": [
       "<Figure size 576x432 with 1 Axes>"
      ]
     },
     "metadata": {
      "needs_background": "light"
     },
     "output_type": "display_data"
    }
   ],
   "source": [
    "thetaa=get_theta(model.theta_all)\n",
    "# = array[:, 0]\n",
    "cost_vs_iteration(model.cost_list)\n",
    "cost_vs_parameter(thetaa[:, 0],model.cost_list)  \n",
    "cost_vs_parameter(thetaa[:, 1],model.cost_list)  \n",
    "cost_vs_parameter(thetaa[:, 2],model.cost_list)  \n",
    "cost_vs_parameter(thetaa[:, 3],model.cost_list)"
   ]
  },
  {
   "cell_type": "code",
   "execution_count": null,
   "id": "d3f714f7",
   "metadata": {},
   "outputs": [],
   "source": []
  }
 ],
 "metadata": {
  "kernelspec": {
   "display_name": "Python 3 (ipykernel)",
   "language": "python",
   "name": "python3"
  },
  "language_info": {
   "codemirror_mode": {
    "name": "ipython",
    "version": 3
   },
   "file_extension": ".py",
   "mimetype": "text/x-python",
   "name": "python",
   "nbconvert_exporter": "python",
   "pygments_lexer": "ipython3",
   "version": "3.9.12"
  }
 },
 "nbformat": 4,
 "nbformat_minor": 5
}
